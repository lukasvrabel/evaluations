{
 "cells": [
  {
   "cell_type": "code",
   "execution_count": 1,
   "metadata": {},
   "outputs": [],
   "source": [
    "%load_ext autoreload\n",
    "%autoreload 2\n",
    "%matplotlib inline"
   ]
  },
  {
   "cell_type": "code",
   "execution_count": 2,
   "metadata": {},
   "outputs": [
    {
     "name": "stderr",
     "output_type": "stream",
     "text": [
      "/home/lukas/.pyenv/versions/3.8.2/envs/evaluations/lib/python3.8/site-packages/pandas/compat/__init__.py:117: UserWarning: Could not import the lzma module. Your installed Python is incomplete. Attempting to use lzma compression will result in a RuntimeError.\n",
      "  warnings.warn(msg)\n"
     ]
    }
   ],
   "source": [
    "from matplotlib import pyplot as plt\n",
    "import sklearn.datasets\n",
    "import sklearn.model_selection\n",
    "import numpy as np\n",
    "import pandas as pd"
   ]
  },
  {
   "cell_type": "code",
   "execution_count": 3,
   "metadata": {
    "tags": [
     "parameters"
    ]
   },
   "outputs": [],
   "source": [
    "PREDICTIONS_OUT = 'test_pred_proba.csv'\n",
    "LABELS_OUT = 'test_labels.csv'"
   ]
  },
  {
   "cell_type": "markdown",
   "metadata": {},
   "source": [
    "## Download dataset"
   ]
  },
  {
   "cell_type": "code",
   "execution_count": 4,
   "metadata": {},
   "outputs": [],
   "source": [
    "iris = sklearn.datasets.load_digits()"
   ]
  },
  {
   "cell_type": "code",
   "execution_count": 5,
   "metadata": {},
   "outputs": [
    {
     "data": {
      "text/plain": [
       "(1797, 64)"
      ]
     },
     "execution_count": 5,
     "metadata": {},
     "output_type": "execute_result"
    }
   ],
   "source": [
    "iris.data.shape"
   ]
  },
  {
   "cell_type": "code",
   "execution_count": 6,
   "metadata": {},
   "outputs": [
    {
     "data": {
      "text/plain": [
       "array([0, 1, 2, 3, 4])"
      ]
     },
     "execution_count": 6,
     "metadata": {},
     "output_type": "execute_result"
    }
   ],
   "source": [
    "iris.target[:5]"
   ]
  },
  {
   "cell_type": "markdown",
   "metadata": {},
   "source": [
    "## Split and train"
   ]
  },
  {
   "cell_type": "code",
   "execution_count": 7,
   "metadata": {},
   "outputs": [],
   "source": [
    "X_train, X_test, y_train, y_test = sklearn.model_selection.train_test_split(iris.data, iris.target)"
   ]
  },
  {
   "cell_type": "code",
   "execution_count": 8,
   "metadata": {},
   "outputs": [
    {
     "data": {
      "text/plain": [
       "(1797, 1347, 450)"
      ]
     },
     "execution_count": 8,
     "metadata": {},
     "output_type": "execute_result"
    }
   ],
   "source": [
    "len(iris.data), len(X_train), len(X_test)"
   ]
  },
  {
   "cell_type": "code",
   "execution_count": 9,
   "metadata": {},
   "outputs": [
    {
     "data": {
      "text/plain": [
       "(1797, 1347, 450)"
      ]
     },
     "execution_count": 9,
     "metadata": {},
     "output_type": "execute_result"
    }
   ],
   "source": [
    "len(iris.target), len(y_train), len(y_test)"
   ]
  },
  {
   "cell_type": "code",
   "execution_count": 10,
   "metadata": {},
   "outputs": [],
   "source": [
    "from sklearn.linear_model import LogisticRegression"
   ]
  },
  {
   "cell_type": "code",
   "execution_count": 11,
   "metadata": {},
   "outputs": [],
   "source": [
    "cls = LogisticRegression()\n"
   ]
  },
  {
   "cell_type": "code",
   "execution_count": 12,
   "metadata": {},
   "outputs": [
    {
     "name": "stderr",
     "output_type": "stream",
     "text": [
      "/home/lukas/.pyenv/versions/3.8.2/envs/evaluations/lib/python3.8/site-packages/sklearn/linear_model/_logistic.py:762: ConvergenceWarning: lbfgs failed to converge (status=1):\n",
      "STOP: TOTAL NO. of ITERATIONS REACHED LIMIT.\n",
      "\n",
      "Increase the number of iterations (max_iter) or scale the data as shown in:\n",
      "    https://scikit-learn.org/stable/modules/preprocessing.html\n",
      "Please also refer to the documentation for alternative solver options:\n",
      "    https://scikit-learn.org/stable/modules/linear_model.html#logistic-regression\n",
      "  n_iter_i = _check_optimize_result(\n"
     ]
    },
    {
     "data": {
      "text/plain": [
       "LogisticRegression()"
      ]
     },
     "execution_count": 12,
     "metadata": {},
     "output_type": "execute_result"
    }
   ],
   "source": [
    "cls.fit(X_train, y_train)"
   ]
  },
  {
   "cell_type": "code",
   "execution_count": 13,
   "metadata": {},
   "outputs": [
    {
     "data": {
      "text/plain": [
       "array([[1.03722642e-08, 3.80526528e-06, 5.59868862e-07, 1.30549694e-03,\n",
       "        2.86040309e-11, 4.00278323e-01, 1.82703588e-07, 4.71167590e-09,\n",
       "        5.98315704e-01, 9.59125903e-05],\n",
       "       [3.73407008e-15, 2.53817693e-12, 1.04599294e-08, 9.99997335e-01,\n",
       "        8.66399218e-19, 7.45343872e-09, 7.67614504e-16, 3.10171556e-11,\n",
       "        1.22655165e-08, 2.63491141e-06],\n",
       "       [2.24229088e-12, 1.97785854e-10, 7.70551946e-16, 3.78027790e-11,\n",
       "        2.78901074e-10, 9.99999999e-01, 4.04918696e-14, 8.93272894e-10,\n",
       "        1.00388445e-12, 7.57018992e-11],\n",
       "       [3.10131847e-10, 4.07834682e-11, 2.52996268e-17, 1.03164925e-21,\n",
       "        9.99999059e-01, 1.54898519e-13, 4.56553094e-08, 8.95438155e-07,\n",
       "        2.54167536e-12, 1.28424131e-17],\n",
       "       [8.08071975e-08, 3.82515762e-15, 2.75675056e-13, 1.94625147e-05,\n",
       "        6.00107734e-15, 9.99861290e-01, 2.12688436e-08, 1.93458151e-12,\n",
       "        1.19108350e-04, 3.67605763e-08]])"
      ]
     },
     "execution_count": 13,
     "metadata": {},
     "output_type": "execute_result"
    }
   ],
   "source": [
    "y_pred_proba = cls.predict_proba(X_test)\n",
    "y_pred_proba[:5]"
   ]
  },
  {
   "cell_type": "code",
   "execution_count": 14,
   "metadata": {},
   "outputs": [
    {
     "data": {
      "text/plain": [
       "array([8, 3, 5, 4, 5])"
      ]
     },
     "execution_count": 14,
     "metadata": {},
     "output_type": "execute_result"
    }
   ],
   "source": [
    "y_pred = np.argmax(y_pred_proba, axis=1)\n",
    "y_pred[:5]"
   ]
  },
  {
   "cell_type": "markdown",
   "metadata": {},
   "source": [
    "## Valid"
   ]
  },
  {
   "cell_type": "code",
   "execution_count": 15,
   "metadata": {},
   "outputs": [
    {
     "name": "stdout",
     "output_type": "stream",
     "text": [
      "accuracy: 96.7%\n"
     ]
    }
   ],
   "source": [
    "accuracy = sum(y_pred == y_test) / len(y_pred)\n",
    "print(f'accuracy: {accuracy*100:.1f}%')"
   ]
  },
  {
   "cell_type": "markdown",
   "metadata": {},
   "source": [
    "## Store predictions"
   ]
  },
  {
   "cell_type": "code",
   "execution_count": 16,
   "metadata": {},
   "outputs": [
    {
     "data": {
      "text/plain": [
       "(450, 10)"
      ]
     },
     "execution_count": 16,
     "metadata": {},
     "output_type": "execute_result"
    }
   ],
   "source": [
    "y_pred_proba.shape"
   ]
  },
  {
   "cell_type": "code",
   "execution_count": 17,
   "metadata": {},
   "outputs": [
    {
     "name": "stdout",
     "output_type": "stream",
     "text": [
      "(450, 10)\n"
     ]
    },
    {
     "data": {
      "text/html": [
       "<div>\n",
       "<style scoped>\n",
       "    .dataframe tbody tr th:only-of-type {\n",
       "        vertical-align: middle;\n",
       "    }\n",
       "\n",
       "    .dataframe tbody tr th {\n",
       "        vertical-align: top;\n",
       "    }\n",
       "\n",
       "    .dataframe thead th {\n",
       "        text-align: right;\n",
       "    }\n",
       "</style>\n",
       "<table border=\"1\" class=\"dataframe\">\n",
       "  <thead>\n",
       "    <tr style=\"text-align: right;\">\n",
       "      <th></th>\n",
       "      <th>pred_proba_0</th>\n",
       "      <th>pred_proba_1</th>\n",
       "      <th>pred_proba_2</th>\n",
       "      <th>pred_proba_3</th>\n",
       "      <th>pred_proba_4</th>\n",
       "      <th>pred_proba_5</th>\n",
       "      <th>pred_proba_6</th>\n",
       "      <th>pred_proba_7</th>\n",
       "      <th>pred_proba_8</th>\n",
       "      <th>pred_proba_9</th>\n",
       "    </tr>\n",
       "  </thead>\n",
       "  <tbody>\n",
       "    <tr>\n",
       "      <th>0</th>\n",
       "      <td>1.037226e-08</td>\n",
       "      <td>3.805265e-06</td>\n",
       "      <td>5.598689e-07</td>\n",
       "      <td>1.305497e-03</td>\n",
       "      <td>2.860403e-11</td>\n",
       "      <td>4.002783e-01</td>\n",
       "      <td>1.827036e-07</td>\n",
       "      <td>4.711676e-09</td>\n",
       "      <td>5.983157e-01</td>\n",
       "      <td>9.591259e-05</td>\n",
       "    </tr>\n",
       "    <tr>\n",
       "      <th>1</th>\n",
       "      <td>3.734070e-15</td>\n",
       "      <td>2.538177e-12</td>\n",
       "      <td>1.045993e-08</td>\n",
       "      <td>9.999973e-01</td>\n",
       "      <td>8.663992e-19</td>\n",
       "      <td>7.453439e-09</td>\n",
       "      <td>7.676145e-16</td>\n",
       "      <td>3.101716e-11</td>\n",
       "      <td>1.226552e-08</td>\n",
       "      <td>2.634911e-06</td>\n",
       "    </tr>\n",
       "    <tr>\n",
       "      <th>2</th>\n",
       "      <td>2.242291e-12</td>\n",
       "      <td>1.977859e-10</td>\n",
       "      <td>7.705519e-16</td>\n",
       "      <td>3.780278e-11</td>\n",
       "      <td>2.789011e-10</td>\n",
       "      <td>1.000000e+00</td>\n",
       "      <td>4.049187e-14</td>\n",
       "      <td>8.932729e-10</td>\n",
       "      <td>1.003884e-12</td>\n",
       "      <td>7.570190e-11</td>\n",
       "    </tr>\n",
       "  </tbody>\n",
       "</table>\n",
       "</div>"
      ],
      "text/plain": [
       "   pred_proba_0  pred_proba_1  pred_proba_2  pred_proba_3  pred_proba_4  \\\n",
       "0  1.037226e-08  3.805265e-06  5.598689e-07  1.305497e-03  2.860403e-11   \n",
       "1  3.734070e-15  2.538177e-12  1.045993e-08  9.999973e-01  8.663992e-19   \n",
       "2  2.242291e-12  1.977859e-10  7.705519e-16  3.780278e-11  2.789011e-10   \n",
       "\n",
       "   pred_proba_5  pred_proba_6  pred_proba_7  pred_proba_8  pred_proba_9  \n",
       "0  4.002783e-01  1.827036e-07  4.711676e-09  5.983157e-01  9.591259e-05  \n",
       "1  7.453439e-09  7.676145e-16  3.101716e-11  1.226552e-08  2.634911e-06  \n",
       "2  1.000000e+00  4.049187e-14  8.932729e-10  1.003884e-12  7.570190e-11  "
      ]
     },
     "execution_count": 17,
     "metadata": {},
     "output_type": "execute_result"
    }
   ],
   "source": [
    "pred_proba_df = pd.DataFrame(y_pred_proba, columns=[f'pred_proba_{idx}' for idx in range(y_pred_proba.shape[1])])\n",
    "print(pred_proba_df.shape)\n",
    "pred_proba_df.head(3)"
   ]
  },
  {
   "cell_type": "code",
   "execution_count": 18,
   "metadata": {},
   "outputs": [
    {
     "name": "stdout",
     "output_type": "stream",
     "text": [
      "writing labels to: \"test_labels.csv\"\n"
     ]
    }
   ],
   "source": [
    "print(f'writing labels to: \"{LABELS_OUT}\"')\n",
    "pd.Series(y_test, name=\"label\").to_csv(LABELS_OUT, index=False)"
   ]
  },
  {
   "cell_type": "code",
   "execution_count": 19,
   "metadata": {},
   "outputs": [
    {
     "name": "stdout",
     "output_type": "stream",
     "text": [
      "writing pred_proba to \"test_pred_proba.csv\"\n"
     ]
    }
   ],
   "source": [
    "print(f'writing pred_proba to \"{PREDICTIONS_OUT}\"')\n",
    "pred_proba_df.to_csv(PREDICTIONS_OUT, index=False)"
   ]
  },
  {
   "cell_type": "code",
   "execution_count": null,
   "metadata": {},
   "outputs": [],
   "source": []
  }
 ],
 "metadata": {
  "kernelspec": {
   "display_name": "Python 3",
   "language": "python",
   "name": "python3"
  },
  "language_info": {
   "codemirror_mode": {
    "name": "ipython",
    "version": 3
   },
   "file_extension": ".py",
   "mimetype": "text/x-python",
   "name": "python",
   "nbconvert_exporter": "python",
   "pygments_lexer": "ipython3",
   "version": "3.8.2"
  }
 },
 "nbformat": 4,
 "nbformat_minor": 4
}
