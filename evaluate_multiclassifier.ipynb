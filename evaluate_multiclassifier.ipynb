{
 "cells": [
  {
   "cell_type": "code",
   "execution_count": 1,
   "metadata": {},
   "outputs": [],
   "source": [
    "%load_ext autoreload\n",
    "%autoreload 2\n",
    "%matplotlib inline"
   ]
  },
  {
   "cell_type": "code",
   "execution_count": 2,
   "metadata": {},
   "outputs": [
    {
     "name": "stderr",
     "output_type": "stream",
     "text": [
      "/home/lukas/.pyenv/versions/3.8.2/envs/evaluations/lib/python3.8/site-packages/pandas/compat/__init__.py:117: UserWarning: Could not import the lzma module. Your installed Python is incomplete. Attempting to use lzma compression will result in a RuntimeError.\n",
      "  warnings.warn(msg)\n"
     ]
    }
   ],
   "source": [
    "import pandas as pd\n",
    "import numpy as np\n",
    "import sklearn.metrics\n",
    "import matplotlib.pyplot as plt\n",
    "import seaborn as sns"
   ]
  },
  {
   "cell_type": "code",
   "execution_count": 3,
   "metadata": {
    "tags": [
     "parameters"
    ]
   },
   "outputs": [],
   "source": [
    "LABELS_PATH = 'test_labels.csv'\n",
    "PRED_PROBA_PATH = 'test_pred_proba.csv'"
   ]
  },
  {
   "cell_type": "markdown",
   "metadata": {},
   "source": [
    "## Load Data"
   ]
  },
  {
   "cell_type": "code",
   "execution_count": 4,
   "metadata": {},
   "outputs": [
    {
     "name": "stdout",
     "output_type": "stream",
     "text": [
      "loading labels from \"test_labels.csv\"\n",
      "(450,)\n"
     ]
    },
    {
     "data": {
      "text/plain": [
       "0    0\n",
       "1    6\n",
       "2    2\n",
       "Name: label, dtype: int64"
      ]
     },
     "execution_count": 4,
     "metadata": {},
     "output_type": "execute_result"
    }
   ],
   "source": [
    "print(f'loading labels from \"{LABELS_PATH}\"')\n",
    "y_true = pd.read_csv(LABELS_PATH).label\n",
    "print(y_true.shape)\n",
    "y_true[:3]"
   ]
  },
  {
   "cell_type": "code",
   "execution_count": 5,
   "metadata": {},
   "outputs": [
    {
     "name": "stdout",
     "output_type": "stream",
     "text": [
      "loading pred_proba from \"test_pred_proba.csv\"\n",
      "(450, 10)\n"
     ]
    },
    {
     "data": {
      "text/html": [
       "<div>\n",
       "<style scoped>\n",
       "    .dataframe tbody tr th:only-of-type {\n",
       "        vertical-align: middle;\n",
       "    }\n",
       "\n",
       "    .dataframe tbody tr th {\n",
       "        vertical-align: top;\n",
       "    }\n",
       "\n",
       "    .dataframe thead th {\n",
       "        text-align: right;\n",
       "    }\n",
       "</style>\n",
       "<table border=\"1\" class=\"dataframe\">\n",
       "  <thead>\n",
       "    <tr style=\"text-align: right;\">\n",
       "      <th></th>\n",
       "      <th>pred_proba_0</th>\n",
       "      <th>pred_proba_1</th>\n",
       "      <th>pred_proba_2</th>\n",
       "      <th>pred_proba_3</th>\n",
       "      <th>pred_proba_4</th>\n",
       "      <th>pred_proba_5</th>\n",
       "      <th>pred_proba_6</th>\n",
       "      <th>pred_proba_7</th>\n",
       "      <th>pred_proba_8</th>\n",
       "      <th>pred_proba_9</th>\n",
       "    </tr>\n",
       "  </thead>\n",
       "  <tbody>\n",
       "    <tr>\n",
       "      <th>0</th>\n",
       "      <td>9.999996e-01</td>\n",
       "      <td>1.784708e-14</td>\n",
       "      <td>1.401096e-12</td>\n",
       "      <td>3.774204e-16</td>\n",
       "      <td>1.112619e-12</td>\n",
       "      <td>3.031829e-11</td>\n",
       "      <td>3.435289e-07</td>\n",
       "      <td>5.591542e-13</td>\n",
       "      <td>4.401591e-10</td>\n",
       "      <td>1.770007e-08</td>\n",
       "    </tr>\n",
       "    <tr>\n",
       "      <th>1</th>\n",
       "      <td>4.093921e-06</td>\n",
       "      <td>2.396784e-06</td>\n",
       "      <td>1.487455e-09</td>\n",
       "      <td>1.010130e-13</td>\n",
       "      <td>5.600528e-06</td>\n",
       "      <td>7.150547e-11</td>\n",
       "      <td>9.999874e-01</td>\n",
       "      <td>4.974835e-13</td>\n",
       "      <td>5.436553e-07</td>\n",
       "      <td>1.189707e-17</td>\n",
       "    </tr>\n",
       "    <tr>\n",
       "      <th>2</th>\n",
       "      <td>4.811763e-15</td>\n",
       "      <td>6.504114e-09</td>\n",
       "      <td>1.000000e+00</td>\n",
       "      <td>5.030370e-09</td>\n",
       "      <td>5.994344e-17</td>\n",
       "      <td>3.267651e-09</td>\n",
       "      <td>1.023259e-11</td>\n",
       "      <td>3.378217e-17</td>\n",
       "      <td>4.093167e-09</td>\n",
       "      <td>2.216311e-13</td>\n",
       "    </tr>\n",
       "  </tbody>\n",
       "</table>\n",
       "</div>"
      ],
      "text/plain": [
       "   pred_proba_0  pred_proba_1  pred_proba_2  pred_proba_3  pred_proba_4  \\\n",
       "0  9.999996e-01  1.784708e-14  1.401096e-12  3.774204e-16  1.112619e-12   \n",
       "1  4.093921e-06  2.396784e-06  1.487455e-09  1.010130e-13  5.600528e-06   \n",
       "2  4.811763e-15  6.504114e-09  1.000000e+00  5.030370e-09  5.994344e-17   \n",
       "\n",
       "   pred_proba_5  pred_proba_6  pred_proba_7  pred_proba_8  pred_proba_9  \n",
       "0  3.031829e-11  3.435289e-07  5.591542e-13  4.401591e-10  1.770007e-08  \n",
       "1  7.150547e-11  9.999874e-01  4.974835e-13  5.436553e-07  1.189707e-17  \n",
       "2  3.267651e-09  1.023259e-11  3.378217e-17  4.093167e-09  2.216311e-13  "
      ]
     },
     "execution_count": 5,
     "metadata": {},
     "output_type": "execute_result"
    }
   ],
   "source": [
    "print(f'loading pred_proba from \"{PRED_PROBA_PATH}\"')\n",
    "y_pred_proba = pd.read_csv(PRED_PROBA_PATH)\n",
    "print(y_pred_proba.shape)\n",
    "y_pred_proba.head(3)"
   ]
  },
  {
   "cell_type": "code",
   "execution_count": 6,
   "metadata": {},
   "outputs": [
    {
     "data": {
      "text/plain": [
       "array([0, 6, 2, 6, 6])"
      ]
     },
     "execution_count": 6,
     "metadata": {},
     "output_type": "execute_result"
    }
   ],
   "source": [
    "y_pred = np.argmax(y_pred_proba.values, axis=1)\n",
    "y_pred[:5]"
   ]
  },
  {
   "cell_type": "markdown",
   "metadata": {},
   "source": [
    "## Confusion Matrix"
   ]
  },
  {
   "cell_type": "code",
   "execution_count": 7,
   "metadata": {},
   "outputs": [
    {
     "data": {
      "text/plain": [
       "<matplotlib.axes._subplots.AxesSubplot at 0x7f42f4b5f0d0>"
      ]
     },
     "execution_count": 7,
     "metadata": {},
     "output_type": "execute_result"
    },
    {
     "data": {
      "image/png": "[encoded data removed]",
      "text/plain": [
       "<Figure size 1224x864 with 2 Axes>"
      ]
     },
     "metadata": {
      "needs_background": "light"
     },
     "output_type": "display_data"
    }
   ],
   "source": [
    "cm = sklearn.metrics.confusion_matrix(y_true, y_pred)\n",
    "plt.figure(figsize=(17, 12))\n",
    "sns.heatmap(cm, annot=True,cmap=\"OrRd\")"
   ]
  },
  {
   "cell_type": "code",
   "execution_count": 8,
   "metadata": {},
   "outputs": [
    {
     "data": {
      "image/png": "[encoded data removed]",
      "text/plain": [
       "<Figure size 1224x720 with 1 Axes>"
      ]
     },
     "metadata": {
      "needs_background": "light"
     },
     "output_type": "display_data"
    }
   ],
   "source": [
    "# precision recall curve\n",
    "plt.figure(figsize=(17, 10))\n",
    "precision = dict()\n",
    "recall = dict()\n",
    "n_classes = len(set(y_true))\n",
    "for i in range(n_classes):\n",
    "    precision[i], recall[i], _ = sklearn.metrics.precision_recall_curve(y_true == i, y_pred_proba.values[:, i])\n",
    "    plt.plot(recall[i], precision[i], lw=2, label='class {}'.format(i))\n",
    "\n",
    "plt.xlabel(\"recall\")\n",
    "plt.ylabel(\"precision\")\n",
    "plt.legend(loc=\"best\")\n",
    "plt.title(\"precision vs. recall curve\")\n",
    "plt.show()"
   ]
  },
  {
   "cell_type": "code",
   "execution_count": null,
   "metadata": {},
   "outputs": [],
   "source": []
  }
 ],
 "metadata": {
  "kernelspec": {
   "display_name": "Python 3",
   "language": "python",
   "name": "python3"
  },
  "language_info": {
   "codemirror_mode": {
    "name": "ipython",
    "version": 3
   },
   "file_extension": ".py",
   "mimetype": "text/x-python",
   "name": "python",
   "nbconvert_exporter": "python",
   "pygments_lexer": "ipython3",
   "version": "3.8.2"
  }
 },
 "nbformat": 4,
 "nbformat_minor": 4
}
